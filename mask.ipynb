{
 "cells": [
  {
   "cell_type": "code",
   "execution_count": 8,
   "metadata": {},
   "outputs": [],
   "source": [
    "def mask_for(filename):\n",
    "    exec(compile(open('draw.py', \"rb\").read(), 'draw.py', 'exec'), {'name':filename})"
   ]
  },
  {
   "cell_type": "code",
   "execution_count": 9,
   "metadata": {},
   "outputs": [],
   "source": [
    "import os\n",
    "import pandas as pd\n",
    "def clear_format(filename):\n",
    "    return filename[:-4]\n",
    "files = pd.Series(os.listdir('./train'))\n",
    "# files = map(clear_format,files)"
   ]
  },
  {
   "cell_type": "code",
   "execution_count": 10,
   "metadata": {},
   "outputs": [],
   "source": [
    "done_files = pd.Series(os.listdir('./mask'))\n",
    "files = files.apply(clear_format)\n",
    "done_files = done_files.apply(clear_format)"
   ]
  },
  {
   "cell_type": "code",
   "execution_count": 11,
   "metadata": {},
   "outputs": [],
   "source": [
    "undone_files  = [item for item in list(files) if item not in list(done_files)]"
   ]
  },
  {
   "cell_type": "code",
   "execution_count": 12,
   "metadata": {},
   "outputs": [
    {
     "data": {
      "text/plain": [
       "0        0000e88ab\n",
       "1        0001f9222\n",
       "2        00029d126\n",
       "3        00050a15a\n",
       "4        0005c1ef8\n",
       "5        0006e997e\n",
       "6        000a6daec\n",
       "7        000f0f2bf\n",
       "8        0016b897a\n",
       "9        001c1ac5f\n",
       "10       001cae55b\n",
       "11       001d7450c\n",
       "12       00200e115\n",
       "13       00245a598\n",
       "14       002b4615d\n",
       "15       002f99f01\n",
       "16       00355ff28\n",
       "17       00357e37a\n",
       "18       003795857\n",
       "19       0041880bf\n",
       "20       0043da555\n",
       "21       00442c882\n",
       "22       00464ff65\n",
       "23       004775679\n",
       "24       004ae9e26\n",
       "25       004c0f43b\n",
       "26       004e8ad5b\n",
       "27       004f87702\n",
       "28       0050ef29d\n",
       "29       00514c876\n",
       "           ...    \n",
       "25331    ff9c31f7d\n",
       "25332    ff9ca801d\n",
       "25333    ffa18f942\n",
       "25334    ffa3d0d2e\n",
       "25335    ffa5fa27e\n",
       "25336    ffa695dbf\n",
       "25337    ffa9fc95d\n",
       "25338    ffaba39d4\n",
       "25339    ffad54783\n",
       "25340    ffad62503\n",
       "25341    ffb9d76d2\n",
       "25342    ffbead2bd\n",
       "25343    ffc0dd0dc\n",
       "25344    ffc7686c5\n",
       "25345    ffc946e11\n",
       "25346    ffca5cb22\n",
       "25347    ffcd5efdc\n",
       "25348    ffd0f1e95\n",
       "25349    ffd19b7d0\n",
       "25350    ffd2144c5\n",
       "25351    ffd61cded\n",
       "25352    ffd7a6f5a\n",
       "25353    ffdddcc0f\n",
       "25354    ffe52d320\n",
       "25355    ffe7560cd\n",
       "25356    ffef89eed\n",
       "25357    fff7faf61\n",
       "25358    fff9002e0\n",
       "25359    fffcde6fe\n",
       "25360    fffde072b\n",
       "Length: 25361, dtype: object"
      ]
     },
     "execution_count": 12,
     "metadata": {},
     "output_type": "execute_result"
    }
   ],
   "source": [
    "files"
   ]
  },
  {
   "cell_type": "code",
   "execution_count": 13,
   "metadata": {},
   "outputs": [
    {
     "data": {
      "text/plain": [
       "True"
      ]
     },
     "execution_count": 13,
     "metadata": {},
     "output_type": "execute_result"
    }
   ],
   "source": [
    "len(undone_files) == len(files) - len(done_files)"
   ]
  },
  {
   "cell_type": "code",
   "execution_count": 14,
   "metadata": {},
   "outputs": [],
   "source": [
    "import cv2 as cv\n",
    "import numpy as np\n",
    "import pandas as pd\n",
    "import matplotlib.pyplot as plt\n",
    "import matplotlib.cm as cm\n",
    "def floodfill_it(name):\n",
    "    img = cv.imread(cover_image_add(name),cv.IMREAD_GRAYSCALE)\n",
    "    h,w = img.shape\n",
    "    mask = np.zeros((h+2, w+2), np.uint8)\n",
    "    cv.floodFill(img, mask, (0,0), 255);\n",
    "    saveit = cv.bitwise_not(img)\n",
    "    plt.imsave(save_image_add(name),saveit,cmap=cm.gray)\n",
    "\n",
    "def real_image_add(name):\n",
    "    return './train/'+name+'.jpg'\n",
    "def cover_image_add(name):\n",
    "    return './mask/'+name+'.png'\n",
    "def save_image_add(name):\n",
    "    return './floodfilled/'+name+'.png'"
   ]
  },
  {
   "cell_type": "code",
   "execution_count": 15,
   "metadata": {},
   "outputs": [
    {
     "ename": "ModuleNotFoundError",
     "evalue": "No module named 'PIL'",
     "output_type": "error",
     "traceback": [
      "\u001b[1;31m---------------------------------------------------------------------------\u001b[0m",
      "\u001b[1;31mModuleNotFoundError\u001b[0m                       Traceback (most recent call last)",
      "\u001b[1;32m<ipython-input-15-2532d0b36f45>\u001b[0m in \u001b[0;36m<module>\u001b[1;34m\u001b[0m\n\u001b[0;32m      1\u001b[0m \u001b[0mi\u001b[0m\u001b[1;33m+=\u001b[0m\u001b[1;36m1\u001b[0m\u001b[1;33m\u001b[0m\u001b[1;33m\u001b[0m\u001b[0m\n\u001b[1;32m----> 2\u001b[1;33m \u001b[0mmask_for\u001b[0m\u001b[1;33m(\u001b[0m\u001b[0mundone_files\u001b[0m\u001b[1;33m[\u001b[0m\u001b[0mi\u001b[0m\u001b[1;33m]\u001b[0m\u001b[1;33m+\u001b[0m\u001b[1;34m'.jpg'\u001b[0m\u001b[1;33m)\u001b[0m\u001b[1;33m\u001b[0m\u001b[1;33m\u001b[0m\u001b[0m\n\u001b[0m\u001b[0;32m      3\u001b[0m \u001b[0mfloodfill_it\u001b[0m\u001b[1;33m(\u001b[0m\u001b[0mundone_files\u001b[0m\u001b[1;33m[\u001b[0m\u001b[0mi\u001b[0m\u001b[1;33m]\u001b[0m\u001b[1;33m)\u001b[0m\u001b[1;33m\u001b[0m\u001b[1;33m\u001b[0m\u001b[0m\n\u001b[0;32m      4\u001b[0m \u001b[0mprint\u001b[0m\u001b[1;33m(\u001b[0m\u001b[0mi\u001b[0m\u001b[1;33m)\u001b[0m\u001b[1;33m\u001b[0m\u001b[1;33m\u001b[0m\u001b[0m\n",
      "\u001b[1;32m<ipython-input-8-ab4797d686d6>\u001b[0m in \u001b[0;36mmask_for\u001b[1;34m(filename)\u001b[0m\n\u001b[0;32m      1\u001b[0m \u001b[1;32mdef\u001b[0m \u001b[0mmask_for\u001b[0m\u001b[1;33m(\u001b[0m\u001b[0mfilename\u001b[0m\u001b[1;33m)\u001b[0m\u001b[1;33m:\u001b[0m\u001b[1;33m\u001b[0m\u001b[1;33m\u001b[0m\u001b[0m\n\u001b[1;32m----> 2\u001b[1;33m     \u001b[0mexec\u001b[0m\u001b[1;33m(\u001b[0m\u001b[0mcompile\u001b[0m\u001b[1;33m(\u001b[0m\u001b[0mopen\u001b[0m\u001b[1;33m(\u001b[0m\u001b[1;34m'draw.py'\u001b[0m\u001b[1;33m,\u001b[0m \u001b[1;34m\"rb\"\u001b[0m\u001b[1;33m)\u001b[0m\u001b[1;33m.\u001b[0m\u001b[0mread\u001b[0m\u001b[1;33m(\u001b[0m\u001b[1;33m)\u001b[0m\u001b[1;33m,\u001b[0m \u001b[1;34m'draw.py'\u001b[0m\u001b[1;33m,\u001b[0m \u001b[1;34m'exec'\u001b[0m\u001b[1;33m)\u001b[0m\u001b[1;33m,\u001b[0m \u001b[1;33m{\u001b[0m\u001b[1;34m'name'\u001b[0m\u001b[1;33m:\u001b[0m\u001b[0mfilename\u001b[0m\u001b[1;33m}\u001b[0m\u001b[1;33m)\u001b[0m\u001b[1;33m\u001b[0m\u001b[1;33m\u001b[0m\u001b[0m\n\u001b[0m",
      "\u001b[1;32mD:\\whale data\\draw.py\u001b[0m in \u001b[0;36m<module>\u001b[1;34m\u001b[0m\n\u001b[0;32m      1\u001b[0m \u001b[1;33m\u001b[0m\u001b[0m\n\u001b[1;32m----> 2\u001b[1;33m \u001b[1;32mfrom\u001b[0m \u001b[0mPIL\u001b[0m \u001b[1;32mimport\u001b[0m \u001b[0mImageTk\u001b[0m\u001b[1;33m,\u001b[0m \u001b[0mImage\u001b[0m\u001b[1;33m,\u001b[0m \u001b[0mImageDraw\u001b[0m\u001b[1;33m\u001b[0m\u001b[1;33m\u001b[0m\u001b[0m\n\u001b[0m\u001b[0;32m      3\u001b[0m \u001b[1;32mimport\u001b[0m \u001b[0mPIL\u001b[0m\u001b[1;33m\u001b[0m\u001b[1;33m\u001b[0m\u001b[0m\n\u001b[0;32m      4\u001b[0m \u001b[1;32mfrom\u001b[0m \u001b[0mtkinter\u001b[0m \u001b[1;32mimport\u001b[0m \u001b[1;33m*\u001b[0m\u001b[1;33m\u001b[0m\u001b[1;33m\u001b[0m\u001b[0m\n\u001b[0;32m      5\u001b[0m \u001b[1;33m\u001b[0m\u001b[0m\n",
      "\u001b[1;31mModuleNotFoundError\u001b[0m: No module named 'PIL'"
     ]
    }
   ],
   "source": [
    "i+=1\n",
    "mask_for(undone_files[i]+'.jpg')\n",
    "floodfill_it(undone_files[i])\n",
    "print(i)"
   ]
  },
  {
   "cell_type": "code",
   "execution_count": 4,
   "metadata": {},
   "outputs": [],
   "source": [
    "i= 4"
   ]
  },
  {
   "cell_type": "code",
   "execution_count": null,
   "metadata": {},
   "outputs": [],
   "source": []
  }
 ],
 "metadata": {
  "kernelspec": {
   "display_name": "Python 3",
   "language": "python",
   "name": "python3"
  },
  "language_info": {
   "codemirror_mode": {
    "name": "ipython",
    "version": 3
   },
   "file_extension": ".py",
   "mimetype": "text/x-python",
   "name": "python",
   "nbconvert_exporter": "python",
   "pygments_lexer": "ipython3",
   "version": "3.6.8"
  }
 },
 "nbformat": 4,
 "nbformat_minor": 2
}
