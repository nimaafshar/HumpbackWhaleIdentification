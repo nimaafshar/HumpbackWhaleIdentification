{
 "cells": [
  {
   "cell_type": "code",
   "execution_count": 67,
   "metadata": {},
   "outputs": [],
   "source": [
    "PATH = './'\n",
    "import pandas as pd\n",
    "import numpy as np\n",
    "n_categories = 400"
   ]
  },
  {
   "cell_type": "code",
   "execution_count": 68,
   "metadata": {},
   "outputs": [],
   "source": [
    "train_df = pd.read_csv('./train.csv')\n",
    "train_df_by_cat = train_df.groupby(['Id'], as_index=False).count()\n",
    "train_df_by_cat.columns = ['Id', 'Count']"
   ]
  },
  {
   "cell_type": "code",
   "execution_count": 69,
   "metadata": {},
   "outputs": [
    {
     "name": "stdout",
     "output_type": "stream",
     "text": [
      "(2932, 2)\n"
     ]
    },
    {
     "data": {
      "text/html": [
       "<div>\n",
       "<style scoped>\n",
       "    .dataframe tbody tr th:only-of-type {\n",
       "        vertical-align: middle;\n",
       "    }\n",
       "\n",
       "    .dataframe tbody tr th {\n",
       "        vertical-align: top;\n",
       "    }\n",
       "\n",
       "    .dataframe thead th {\n",
       "        text-align: right;\n",
       "    }\n",
       "</style>\n",
       "<table border=\"1\" class=\"dataframe\">\n",
       "  <thead>\n",
       "    <tr style=\"text-align: right;\">\n",
       "      <th></th>\n",
       "      <th>Id</th>\n",
       "      <th>Count</th>\n",
       "    </tr>\n",
       "  </thead>\n",
       "  <tbody>\n",
       "    <tr>\n",
       "      <th>0</th>\n",
       "      <td>new_whale</td>\n",
       "      <td>9664</td>\n",
       "    </tr>\n",
       "    <tr>\n",
       "      <th>3</th>\n",
       "      <td>w_0027efa</td>\n",
       "      <td>10</td>\n",
       "    </tr>\n",
       "    <tr>\n",
       "      <th>4</th>\n",
       "      <td>w_00289b1</td>\n",
       "      <td>2</td>\n",
       "    </tr>\n",
       "    <tr>\n",
       "      <th>7</th>\n",
       "      <td>w_003bae6</td>\n",
       "      <td>8</td>\n",
       "    </tr>\n",
       "    <tr>\n",
       "      <th>8</th>\n",
       "      <td>w_00656c0</td>\n",
       "      <td>2</td>\n",
       "    </tr>\n",
       "  </tbody>\n",
       "</table>\n",
       "</div>"
      ],
      "text/plain": [
       "          Id  Count\n",
       "0  new_whale   9664\n",
       "3  w_0027efa     10\n",
       "4  w_00289b1      2\n",
       "7  w_003bae6      8\n",
       "8  w_00656c0      2"
      ]
     },
     "execution_count": 69,
     "metadata": {},
     "output_type": "execute_result"
    }
   ],
   "source": [
    "train_df_more_than_two = train_df_by_cat[train_df_by_cat.Count > 1]\n",
    "print(train_df_more_than_two.shape)\n",
    "train_df_more_than_two.head(5)"
   ]
  },
  {
   "cell_type": "code",
   "execution_count": 66,
   "metadata": {},
   "outputs": [
    {
     "name": "stdout",
     "output_type": "stream",
     "text": [
      "401\n"
     ]
    }
   ],
   "source": [
    "categories = train_df_more_than_two.sample(n_categories).Id.values.tolist()\n",
    "if not 'new_whale' in categories:\n",
    "    categories.append('new_whale')\n",
    "print(len(categories))"
   ]
  },
  {
   "cell_type": "code",
   "execution_count": 72,
   "metadata": {},
   "outputs": [
    {
     "data": {
      "text/plain": [
       "3309"
      ]
     },
     "execution_count": 72,
     "metadata": {},
     "output_type": "execute_result"
    }
   ],
   "source": [
    "data_train = 'Image,Id\\n'\n",
    "data_test = 'Image,Id\\n'\n",
    "l = 0\n",
    "for cat in categories:\n",
    "    temp_df = train_df[train_df.Id == cat]\n",
    "    sample_count = np.random.randint(2,temp_df.shape[0]+1)\n",
    "    if cat == 'new_whale':\n",
    "        sample_count = 5*n_categories\n",
    "    imgs = temp_df.sample(sample_count).Image.values.tolist()\n",
    "    l += len(imgs)\n",
    "    test_count = 1\n",
    "    if cat == 'new_whale':\n",
    "        test_count = n_categories\n",
    "    \n",
    "    i = 0\n",
    "    for img in imgs:\n",
    "        if i < test_count:\n",
    "            data_test += img + ',' + cat + '\\n'\n",
    "        else:\n",
    "            data_train += img + ',' + cat + '\\n'\n",
    "            \n",
    "        i += 1\n",
    "len(data.split('\\n'))"
   ]
  },
  {
   "cell_type": "code",
   "execution_count": 73,
   "metadata": {},
   "outputs": [],
   "source": [
    "with open('./train_small.csv','w') as f:\n",
    "    f.write(data_train)\n",
    "with open('./test_small.csv','w') as f:\n",
    "    f.write(data_test)"
   ]
  },
  {
   "cell_type": "code",
   "execution_count": 76,
   "metadata": {},
   "outputs": [],
   "source": [
    "df_train = pd.read_csv('./train_small.csv')\n",
    "df_test = pd.read_csv('./test_small.csv')"
   ]
  },
  {
   "cell_type": "code",
   "execution_count": 78,
   "metadata": {},
   "outputs": [
    {
     "data": {
      "text/plain": [
       "(800, 2)"
      ]
     },
     "execution_count": 78,
     "metadata": {},
     "output_type": "execute_result"
    }
   ],
   "source": [
    "df_test.shape"
   ]
  },
  {
   "cell_type": "code",
   "execution_count": null,
   "metadata": {},
   "outputs": [],
   "source": []
  }
 ],
 "metadata": {
  "kernelspec": {
   "display_name": "Python 3",
   "language": "python",
   "name": "python3"
  },
  "language_info": {
   "codemirror_mode": {
    "name": "ipython",
    "version": 3
   },
   "file_extension": ".py",
   "mimetype": "text/x-python",
   "name": "python",
   "nbconvert_exporter": "python",
   "pygments_lexer": "ipython3",
   "version": "3.5.2"
  }
 },
 "nbformat": 4,
 "nbformat_minor": 2
}
